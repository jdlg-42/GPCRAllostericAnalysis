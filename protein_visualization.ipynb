{
 "cells": [
  {
   "cell_type": "markdown",
   "id": "a3797d74",
   "metadata": {},
   "source": [
    "Se representarán visualmente las estructuras de proteínas utilizando el módulo py3Dmol. Concretamente usaremos el módulo para visualizar la estructura del receptor A2A de adenosina , y el receptor beta-2 adrenérgico (PDB ID: 2R4R). \n",
    "\n",
    "Para el caso del receptor A2A, tenemos tres PDB:\n",
    "- 8FYN: estructura original y sola\n",
    "- 3VG9: estudia la estructura unida a un anticuerpo Fab que estudia interacciones con receptores.\n",
    "- 5G53: estructura original unida a proteína G y duplicada."
   ]
  },
  {
   "cell_type": "code",
   "execution_count": 115,
   "id": "7619c843",
   "metadata": {},
   "outputs": [],
   "source": [
    "import py3Dmol\n",
    "from Bio import PDB\n",
    "import os\n",
    "import sys"
   ]
  },
  {
   "cell_type": "code",
   "execution_count": 130,
   "id": "b68e3e8b",
   "metadata": {},
   "outputs": [],
   "source": [
    "# Introducir los sitios alostéricos y ortostéricos de las proteínas.\n",
    "\n",
    "sites = {\n",
    "    \"A2A\": [168, 169, 253, 277, 278],\n",
    "    \"beta2AR\": [0]\n",
    "    }"
   ]
  },
  {
   "cell_type": "code",
   "execution_count": null,
   "id": "e663ab84",
   "metadata": {},
   "outputs": [
    {
     "name": "stdout",
     "output_type": "stream",
     "text": [
      "El PDB de la proteína ya está descargado\n"
     ]
    }
   ],
   "source": [
    "# Este bloque descarga el PDB de la proteína si no está descargado.\n",
    "# Se debe tener el script download_pdb.py en la carpeta PDB_files.\n",
    "\n",
    "import os\n",
    "import sys\n",
    "\n",
    "# ID de la proteína\n",
    "pdb_id = \"8fyn\" \n",
    "\n",
    "# Comprobamos si está descargado el PDB de la proteína\n",
    "with open(\"c:/Users/42jdl/proyectos_programacion/TFG_scripts/PDB_files/PDB_files_list.txt\", \"r\") as f:\n",
    "    if pdb_id in f.read():\n",
    "        print(\"El PDB de la proteína ya está descargado\")\n",
    "    else:\n",
    "        # Verificar el directorio actual en Jupyter\n",
    "        current_dir = os.getcwd()  # Obtener el directorio de trabajo actual\n",
    "        #print(\"DEBUG: Directorio actual en Jupyter:\", current_dir)\n",
    "\n",
    "        # Ruta correcta hacia la carpeta 'PDB_files'\n",
    "        pdb_files_dir = os.path.join(current_dir, 'PDB_files')  # Ajusta esto si el directorio raíz está en otro lugar\n",
    "        # print(\"DEBUG: Ruta a 'PDB_files':\", pdb_files_dir)\n",
    "\n",
    "        # Agregar 'PDB_files' al sys.path para que pueda ser importado\n",
    "        sys.path.append(pdb_files_dir)\n",
    "        #print(\"DEBUG: sys.path después de agregar la ruta:\", sys.path)\n",
    "\n",
    "        # Ahora intentamos importar el script 'download_pdb'\n",
    "        try:\n",
    "            import download_pdb\n",
    "            print(\"Módulo 'download_pdb' importado exitosamente.\")\n",
    "            print(\"El PDB de la proteína no está descargado, descargando...\")\n",
    "            pdb = download_pdb.download_pdb_file(pdb_id, pdb_files_dir)           \n",
    "            print(pdb)\n",
    "        except ImportError:\n",
    "            print(\"Error al importar el módulo 'download_pdb'. Asegúrate de que el archivo 'download_pdb.py' esté en la ruta correcta.\")\n"
   ]
  },
  {
   "cell_type": "code",
   "execution_count": 123,
   "id": "3f33f9a7",
   "metadata": {},
   "outputs": [
    {
     "name": "stdout",
     "output_type": "stream",
     "text": [
      "El número de residuos de la proteína 8fyn es: 590\n"
     ]
    }
   ],
   "source": [
    "# Calcular el tamaño de la proteína y el número de residuos\n",
    "pdb_parser = PDB.PDBParser(QUIET=True)\n",
    "structure = pdb_parser.get_structure(pdb_id, f\"c:/Users/42jdl/proyectos_programacion/TFG_scripts/PDB_files/pdb{pdb_id}.pdb\")\n",
    "model = structure[0]\n",
    "num_residues = 0\n",
    "for chain in model:\n",
    "    num_residues += len(list(chain.get_residues()))\n",
    "print(f\"El número de residuos de la proteína {pdb_id} es: {num_residues}\")"
   ]
  },
  {
   "cell_type": "markdown",
   "id": "17b2eb8b",
   "metadata": {},
   "source": [
    "Crear la primera vista para el receptor A2a de adenosina (código PDB: 8FYN; 5G53). El primer código PDB se usa para representar la estructura del receptor solo con los ligandos, mientras que el segundo lo representa unido a una proteína G.\n"
   ]
  },
  {
   "cell_type": "code",
   "execution_count": 132,
   "id": "33ce0631",
   "metadata": {},
   "outputs": [
    {
     "name": "stdout",
     "output_type": "stream",
     "text": [
      "El PDB de la proteína ya está descargado\n"
     ]
    },
    {
     "data": {
      "application/3dmoljs_load.v0": "<div id=\"3dmolviewer_17456689886099532\"  style=\"position: relative; width: 640px; height: 480px;\">\n        <p id=\"3dmolwarning_17456689886099532\" style=\"background-color:#ffcccc;color:black\">3Dmol.js failed to load for some reason.  Please check your browser console for error messages.<br></p>\n        </div>\n<script>\n\nvar loadScriptAsync = function(uri){\n  return new Promise((resolve, reject) => {\n    //this is to ignore the existence of requirejs amd\n    var savedexports, savedmodule;\n    if (typeof exports !== 'undefined') savedexports = exports;\n    else exports = {}\n    if (typeof module !== 'undefined') savedmodule = module;\n    else module = {}\n\n    var tag = document.createElement('script');\n    tag.src = uri;\n    tag.async = true;\n    tag.onload = () => {\n        exports = savedexports;\n        module = savedmodule;\n        resolve();\n    };\n  var firstScriptTag = document.getElementsByTagName('script')[0];\n  firstScriptTag.parentNode.insertBefore(tag, firstScriptTag);\n});\n};\n\nif(typeof $3Dmolpromise === 'undefined') {\n$3Dmolpromise = null;\n  $3Dmolpromise = loadScriptAsync('https://cdnjs.cloudflare.com/ajax/libs/3Dmol/2.4.2/3Dmol-min.js');\n}\n\nvar viewer_17456689886099532 = null;\nvar warn = document.getElementById(\"3dmolwarning_17456689886099532\");\nif(warn) {\n    warn.parentNode.removeChild(warn);\n}\n$3Dmolpromise.then(function() {\nviewer_17456689886099532 = $3Dmol.createViewer(document.getElementById(\"3dmolviewer_17456689886099532\"),{backgroundColor:\"white\"});\n$3Dmol.download(\"pdb:2ydo\", viewer_17456689886099532, {}, function() {\nviewer_17456689886099532.zoomTo();\n\tviewer_17456689886099532.setBackgroundColor(\"black\");\n\tviewer_17456689886099532.setStyle({\"cartoon\": {\"color\": \"white\"}});\n\tviewer_17456689886099532.setStyle({\"chain\": \"A\", \"resi\": 168},{\"stick\": {\"color\": \"darkred\", \"radius\": 0.5}});\n\tviewer_17456689886099532.setStyle({\"chain\": \"A\", \"resi\": 169},{\"stick\": {\"color\": \"darkred\", \"radius\": 0.5}});\n\tviewer_17456689886099532.setStyle({\"chain\": \"A\", \"resi\": 253},{\"stick\": {\"color\": \"darkred\", \"radius\": 0.5}});\n\tviewer_17456689886099532.setStyle({\"chain\": \"A\", \"resi\": 277},{\"stick\": {\"color\": \"darkred\", \"radius\": 0.5}});\n\tviewer_17456689886099532.setStyle({\"chain\": \"A\", \"resi\": 278},{\"stick\": {\"color\": \"darkred\", \"radius\": 0.5}});\n\tviewer_17456689886099532.addStyle({\"resn\": \"ADN\"},{\"stick\": {\"colorscheme\": \"greenCarbon\"}});\n\tviewer_17456689886099532.zoomTo({\"chain\": \"A\"});\nviewer_17456689886099532.render();\n})\n});\n</script>",
      "text/html": [
       "<div id=\"3dmolviewer_17456689886099532\"  style=\"position: relative; width: 640px; height: 480px;\">\n",
       "        <p id=\"3dmolwarning_17456689886099532\" style=\"background-color:#ffcccc;color:black\">3Dmol.js failed to load for some reason.  Please check your browser console for error messages.<br></p>\n",
       "        </div>\n",
       "<script>\n",
       "\n",
       "var loadScriptAsync = function(uri){\n",
       "  return new Promise((resolve, reject) => {\n",
       "    //this is to ignore the existence of requirejs amd\n",
       "    var savedexports, savedmodule;\n",
       "    if (typeof exports !== 'undefined') savedexports = exports;\n",
       "    else exports = {}\n",
       "    if (typeof module !== 'undefined') savedmodule = module;\n",
       "    else module = {}\n",
       "\n",
       "    var tag = document.createElement('script');\n",
       "    tag.src = uri;\n",
       "    tag.async = true;\n",
       "    tag.onload = () => {\n",
       "        exports = savedexports;\n",
       "        module = savedmodule;\n",
       "        resolve();\n",
       "    };\n",
       "  var firstScriptTag = document.getElementsByTagName('script')[0];\n",
       "  firstScriptTag.parentNode.insertBefore(tag, firstScriptTag);\n",
       "});\n",
       "};\n",
       "\n",
       "if(typeof $3Dmolpromise === 'undefined') {\n",
       "$3Dmolpromise = null;\n",
       "  $3Dmolpromise = loadScriptAsync('https://cdnjs.cloudflare.com/ajax/libs/3Dmol/2.4.2/3Dmol-min.js');\n",
       "}\n",
       "\n",
       "var viewer_17456689886099532 = null;\n",
       "var warn = document.getElementById(\"3dmolwarning_17456689886099532\");\n",
       "if(warn) {\n",
       "    warn.parentNode.removeChild(warn);\n",
       "}\n",
       "$3Dmolpromise.then(function() {\n",
       "viewer_17456689886099532 = $3Dmol.createViewer(document.getElementById(\"3dmolviewer_17456689886099532\"),{backgroundColor:\"white\"});\n",
       "$3Dmol.download(\"pdb:2ydo\", viewer_17456689886099532, {}, function() {\n",
       "viewer_17456689886099532.zoomTo();\n",
       "\tviewer_17456689886099532.setBackgroundColor(\"black\");\n",
       "\tviewer_17456689886099532.setStyle({\"cartoon\": {\"color\": \"white\"}});\n",
       "\tviewer_17456689886099532.setStyle({\"chain\": \"A\", \"resi\": 168},{\"stick\": {\"color\": \"darkred\", \"radius\": 0.5}});\n",
       "\tviewer_17456689886099532.setStyle({\"chain\": \"A\", \"resi\": 169},{\"stick\": {\"color\": \"darkred\", \"radius\": 0.5}});\n",
       "\tviewer_17456689886099532.setStyle({\"chain\": \"A\", \"resi\": 253},{\"stick\": {\"color\": \"darkred\", \"radius\": 0.5}});\n",
       "\tviewer_17456689886099532.setStyle({\"chain\": \"A\", \"resi\": 277},{\"stick\": {\"color\": \"darkred\", \"radius\": 0.5}});\n",
       "\tviewer_17456689886099532.setStyle({\"chain\": \"A\", \"resi\": 278},{\"stick\": {\"color\": \"darkred\", \"radius\": 0.5}});\n",
       "\tviewer_17456689886099532.addStyle({\"resn\": \"ADN\"},{\"stick\": {\"colorscheme\": \"greenCarbon\"}});\n",
       "\tviewer_17456689886099532.zoomTo({\"chain\": \"A\"});\n",
       "viewer_17456689886099532.render();\n",
       "})\n",
       "});\n",
       "</script>"
      ]
     },
     "metadata": {},
     "output_type": "display_data"
    },
    {
     "data": {
      "text/html": [
       "\n",
       "<div style=\"padding: 10px; background-color: #222; color: white; font-family: monospace; width: 300px;\">\n",
       "  <p>Proteína: 2YDO</p>\n",
       "  <p>Residuos totales: 330</p>\n",
       "  <p>Sitios de unión de adenosina (en rojo): [168, 169, 253, 277, 278]</p>\n",
       "</div>\n"
      ],
      "text/plain": [
       "<IPython.core.display.HTML object>"
      ]
     },
     "metadata": {},
     "output_type": "display_data"
    }
   ],
   "source": [
    "import os\n",
    "import sys\n",
    "import py3Dmol\n",
    "from Bio import PDB\n",
    "from IPython.display import display, HTML\n",
    "\n",
    "\n",
    "pdb_id = \"2ydo\"\n",
    "\n",
    "with open(\"c:/Users/42jdl/proyectos_programacion/TFG_scripts/PDB_files/PDB_files_list.txt\", \"r\") as f:\n",
    "    if pdb_id in f.read():\n",
    "        print(\"El PDB de la proteína ya está descargado\")\n",
    "    else:\n",
    "        # Verificar el directorio actual en Jupyter\n",
    "        current_dir = os.getcwd()  # Obtener el directorio de trabajo actual\n",
    "        #print(\"DEBUG: Directorio actual en Jupyter:\", current_dir)\n",
    "\n",
    "        # Ruta correcta hacia la carpeta 'PDB_files'\n",
    "        pdb_files_dir = os.path.join(current_dir, 'PDB_files')  # Ajusta esto si el directorio raíz está en otro lugar\n",
    "        # print(\"DEBUG: Ruta a 'PDB_files':\", pdb_files_dir)\n",
    "\n",
    "        # Agregar 'PDB_files' al sys.path para que pueda ser importado\n",
    "        sys.path.append(pdb_files_dir)\n",
    "        #print(\"DEBUG: sys.path después de agregar la ruta:\", sys.path)\n",
    "\n",
    "        # Ahora intentamos importar el script 'download_pdb'\n",
    "        try:\n",
    "            import download_pdb\n",
    "            print(\"Módulo 'download_pdb' importado exitosamente.\")\n",
    "            print(\"El PDB de la proteína no está descargado, descargando...\")\n",
    "            pdb = download_pdb.download_pdb_file(pdb_id, pdb_files_dir)           \n",
    "            print(pdb)\n",
    "        except ImportError:\n",
    "            print(\"Error al importar el módulo 'download_pdb'. Asegúrate de que el archivo 'download_pdb.py' esté en la ruta correcta.\")\n",
    "\n",
    "# Calcular el tamaño de la proteína y el número de residuos\n",
    "pdb_parser = PDB.PDBParser(QUIET=True)\n",
    "structure = pdb_parser.get_structure(pdb_id, f\"c:/Users/42jdl/proyectos_programacion/TFG_scripts/PDB_files/pdb{pdb_id}.pdb\")\n",
    "model = structure[0]\n",
    "num_residues = 0\n",
    "for chain in model:\n",
    "    num_residues += len(list(chain.get_residues()))\n",
    "\n",
    "# Mostrar la proteína con py3Dmol\n",
    "a2a_1 = py3Dmol.view(query=f'pdb:{pdb_id}')\n",
    "a2a_1.setBackgroundColor('black')  # Fondo negro\n",
    "a2a_1.setStyle({'cartoon': {'color': 'white'}})\n",
    "for site in sites[\"A2A\"]:\n",
    "    a2a_1.setStyle({\"chain\": \"A\",\"resi\": site}, {'stick': {'color': 'darkred', 'radius': 0.5}}) # colorear los sitios alostéricos de la proteína\n",
    "# Representación de ligandos de interés\n",
    "a2a_1.addStyle({'resn': 'ADN'}, {'stick': {'colorscheme': 'greenCarbon'}}) # ADN es la adenosina\n",
    "a2a_1.zoomTo({'chain': 'A'})\n",
    "a2a_1.show()\n",
    "\n",
    "display(HTML(f\"\"\"\n",
    "<div style=\"padding: 10px; background-color: #222; color: white; font-family: monospace; width: 300px;\">\n",
    "  <p>Proteína: {pdb_id.upper()}</p>\n",
    "  <p>Residuos totales: {num_residues}</p>\n",
    "  <p>Sitios de unión de adenosina (en rojo): {sites[\"A2A\"]}</p>\n",
    "</div>\n",
    "\"\"\"))"
   ]
  },
  {
   "cell_type": "code",
   "execution_count": null,
   "id": "a7c4609a",
   "metadata": {},
   "outputs": [
    {
     "name": "stdout",
     "output_type": "stream",
     "text": [
      "El número de residuos de la proteína 5g53 es: 953\n"
     ]
    },
    {
     "data": {
      "application/3dmoljs_load.v0": "<div id=\"3dmolviewer_17456675749602532\"  style=\"position: relative; width: 640px; height: 480px;\">\n        <p id=\"3dmolwarning_17456675749602532\" style=\"background-color:#ffcccc;color:black\">3Dmol.js failed to load for some reason.  Please check your browser console for error messages.<br></p>\n        </div>\n<script>\n\nvar loadScriptAsync = function(uri){\n  return new Promise((resolve, reject) => {\n    //this is to ignore the existence of requirejs amd\n    var savedexports, savedmodule;\n    if (typeof exports !== 'undefined') savedexports = exports;\n    else exports = {}\n    if (typeof module !== 'undefined') savedmodule = module;\n    else module = {}\n\n    var tag = document.createElement('script');\n    tag.src = uri;\n    tag.async = true;\n    tag.onload = () => {\n        exports = savedexports;\n        module = savedmodule;\n        resolve();\n    };\n  var firstScriptTag = document.getElementsByTagName('script')[0];\n  firstScriptTag.parentNode.insertBefore(tag, firstScriptTag);\n});\n};\n\nif(typeof $3Dmolpromise === 'undefined') {\n$3Dmolpromise = null;\n  $3Dmolpromise = loadScriptAsync('https://cdnjs.cloudflare.com/ajax/libs/3Dmol/2.4.2/3Dmol-min.js');\n}\n\nvar viewer_17456675749602532 = null;\nvar warn = document.getElementById(\"3dmolwarning_17456675749602532\");\nif(warn) {\n    warn.parentNode.removeChild(warn);\n}\n$3Dmolpromise.then(function() {\nviewer_17456675749602532 = $3Dmol.createViewer(document.getElementById(\"3dmolviewer_17456675749602532\"),{backgroundColor:\"white\"});\n$3Dmol.download(\"pdb:5g53\", viewer_17456675749602532, {}, function() {\nviewer_17456675749602532.zoomTo();\n\tviewer_17456675749602532.setBackgroundColor(\"black\");\n\tviewer_17456675749602532.setStyle({\"chain\": [\"A\", \"C\"]},{\"cartoon\": {\"color\": \"white\"}});\n\tviewer_17456675749602532.setStyle({\"chain\": [\"B\", \"D\"]},{});\n\tviewer_17456675749602532.setStyle({\"chain\": \"A\", \"resi\": 85},{\"cartoon\": {\"color\": \"darkred\", \"radius\": 0.5}});\n\tviewer_17456675749602532.setStyle({\"chain\": \"A\", \"resi\": 89},{\"cartoon\": {\"color\": \"darkred\", \"radius\": 0.5}});\n\tviewer_17456675749602532.setStyle({\"chain\": \"A\", \"resi\": 246},{\"cartoon\": {\"color\": \"darkred\", \"radius\": 0.5}});\n\tviewer_17456675749602532.setStyle({\"chain\": \"A\", \"resi\": 253},{\"cartoon\": {\"color\": \"darkred\", \"radius\": 0.5}});\n\tviewer_17456675749602532.zoomTo({\"chain\": \"A\"});\nviewer_17456675749602532.render();\n})\n});\n</script>",
      "text/html": [
       "<div id=\"3dmolviewer_17456675749602532\"  style=\"position: relative; width: 640px; height: 480px;\">\n",
       "        <p id=\"3dmolwarning_17456675749602532\" style=\"background-color:#ffcccc;color:black\">3Dmol.js failed to load for some reason.  Please check your browser console for error messages.<br></p>\n",
       "        </div>\n",
       "<script>\n",
       "\n",
       "var loadScriptAsync = function(uri){\n",
       "  return new Promise((resolve, reject) => {\n",
       "    //this is to ignore the existence of requirejs amd\n",
       "    var savedexports, savedmodule;\n",
       "    if (typeof exports !== 'undefined') savedexports = exports;\n",
       "    else exports = {}\n",
       "    if (typeof module !== 'undefined') savedmodule = module;\n",
       "    else module = {}\n",
       "\n",
       "    var tag = document.createElement('script');\n",
       "    tag.src = uri;\n",
       "    tag.async = true;\n",
       "    tag.onload = () => {\n",
       "        exports = savedexports;\n",
       "        module = savedmodule;\n",
       "        resolve();\n",
       "    };\n",
       "  var firstScriptTag = document.getElementsByTagName('script')[0];\n",
       "  firstScriptTag.parentNode.insertBefore(tag, firstScriptTag);\n",
       "});\n",
       "};\n",
       "\n",
       "if(typeof $3Dmolpromise === 'undefined') {\n",
       "$3Dmolpromise = null;\n",
       "  $3Dmolpromise = loadScriptAsync('https://cdnjs.cloudflare.com/ajax/libs/3Dmol/2.4.2/3Dmol-min.js');\n",
       "}\n",
       "\n",
       "var viewer_17456675749602532 = null;\n",
       "var warn = document.getElementById(\"3dmolwarning_17456675749602532\");\n",
       "if(warn) {\n",
       "    warn.parentNode.removeChild(warn);\n",
       "}\n",
       "$3Dmolpromise.then(function() {\n",
       "viewer_17456675749602532 = $3Dmol.createViewer(document.getElementById(\"3dmolviewer_17456675749602532\"),{backgroundColor:\"white\"});\n",
       "$3Dmol.download(\"pdb:5g53\", viewer_17456675749602532, {}, function() {\n",
       "viewer_17456675749602532.zoomTo();\n",
       "\tviewer_17456675749602532.setBackgroundColor(\"black\");\n",
       "\tviewer_17456675749602532.setStyle({\"chain\": [\"A\", \"C\"]},{\"cartoon\": {\"color\": \"white\"}});\n",
       "\tviewer_17456675749602532.setStyle({\"chain\": [\"B\", \"D\"]},{});\n",
       "\tviewer_17456675749602532.setStyle({\"chain\": \"A\", \"resi\": 85},{\"cartoon\": {\"color\": \"darkred\", \"radius\": 0.5}});\n",
       "\tviewer_17456675749602532.setStyle({\"chain\": \"A\", \"resi\": 89},{\"cartoon\": {\"color\": \"darkred\", \"radius\": 0.5}});\n",
       "\tviewer_17456675749602532.setStyle({\"chain\": \"A\", \"resi\": 246},{\"cartoon\": {\"color\": \"darkred\", \"radius\": 0.5}});\n",
       "\tviewer_17456675749602532.setStyle({\"chain\": \"A\", \"resi\": 253},{\"cartoon\": {\"color\": \"darkred\", \"radius\": 0.5}});\n",
       "\tviewer_17456675749602532.zoomTo({\"chain\": \"A\"});\n",
       "viewer_17456675749602532.render();\n",
       "})\n",
       "});\n",
       "</script>"
      ]
     },
     "metadata": {},
     "output_type": "display_data"
    },
    {
     "data": {
      "text/html": [
       "\n",
       "<div style=\"padding: 10px; background-color: #222; color: white; font-family: monospace; width: 300px;\">\n",
       "  <p>Proteína: 5G53</p>\n",
       "  <p>Residuos totales: 953</p>\n",
       "</div>\n"
      ],
      "text/plain": [
       "<IPython.core.display.HTML object>"
      ]
     },
     "metadata": {},
     "output_type": "display_data"
    }
   ],
   "source": [
    "\n",
    "# Receptor A2A de adenosina con proteína G (código PDB: 5G53).\n",
    "\n",
    "pdb_id = \"5g53\"  # Escribir el PDB en minúsculas\n",
    "\n",
    "# Calcular el tamaño de la proteína y el número de residuos\n",
    "pdb_parser = PDB.PDBParser(QUIET=True)\n",
    "structure = pdb_parser.get_structure(pdb_id, f\"c:/Users/42jdl/proyectos_programacion/TFG_scripts/PDB_files/pdb{pdb_id}.pdb\")\n",
    "model = structure[0]\n",
    "num_residues = 0\n",
    "for chain in model:\n",
    "    num_residues += len(list(chain.get_residues()))\n",
    "print(f\"El número de residuos de la proteína {pdb_id} es: {num_residues}\")\n",
    "\n",
    "a2a_2 = py3Dmol.view(query=f'pdb:{pdb_id}')\n",
    "a2a_2.setBackgroundColor('black')  # Fondo negro\n",
    "a2a_2.setStyle({\"chain\": [\"A\", \"C\"]},{'cartoon': {'color': 'white'}})\n",
    "a2a_2.setStyle({'chain': ['B', 'D']}, {}) # eliminar cadenas B y D que son duplicados de A y C.\n",
    "for site in allosteric_sites[\"A2A\"]:\n",
    "    a2a_2.setStyle({\"chain\": \"A\",\"resi\": site}, {'cartoon': {'color': 'darkred', 'radius': 0.5}}) # colorear los sitios alostéricos de la proteína\n",
    "a2a_2.zoomTo({'chain': 'A'})\n",
    "a2a_2.show()\n",
    "\n",
    "display(HTML(f\"\"\"\n",
    "<div style=\"padding: 10px; background-color: #222; color: white; font-family: monospace; width: 300px;\">\n",
    "  <p>Proteína: {pdb_id.upper()}</p>\n",
    "  <p>Residuos totales: {num_residues}</p>\n",
    "</div>\n",
    "\"\"\"))"
   ]
  },
  {
   "cell_type": "code",
   "execution_count": null,
   "id": "4a5b4bd8",
   "metadata": {},
   "outputs": [],
   "source": []
  }
 ],
 "metadata": {
  "kernelspec": {
   "display_name": "base",
   "language": "python",
   "name": "python3"
  },
  "language_info": {
   "codemirror_mode": {
    "name": "ipython",
    "version": 3
   },
   "file_extension": ".py",
   "mimetype": "text/x-python",
   "name": "python",
   "nbconvert_exporter": "python",
   "pygments_lexer": "ipython3",
   "version": "3.12.9"
  }
 },
 "nbformat": 4,
 "nbformat_minor": 5
}
