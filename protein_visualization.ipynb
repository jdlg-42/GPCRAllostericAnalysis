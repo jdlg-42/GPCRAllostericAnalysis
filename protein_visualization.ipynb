{
 "cells": [
  {
   "cell_type": "markdown",
   "id": "a3797d74",
   "metadata": {},
   "source": [
    "Se representarán visualmente las estructuras de proteínas utilizando el módulo py3Dmol. Concretamente usaremos el módulo para visualizar la estructura del receptor A2A de adenosina (PDB ID: 3VG9), y el receptor beta-2 adrenérgico (PDB ID: 2R4R).\n"
   ]
  },
  {
   "cell_type": "code",
   "execution_count": 3,
   "id": "7619c843",
   "metadata": {},
   "outputs": [],
   "source": [
    "import py3Dmol"
   ]
  },
  {
   "cell_type": "code",
   "execution_count": null,
   "id": "b68e3e8b",
   "metadata": {},
   "outputs": [],
   "source": [
    "# Introducir los sitios alostéricos y ortostéricos de las proteínas.\n",
    "\n",
    "allosteric_sites = {"
   ]
  },
  {
   "cell_type": "code",
   "execution_count": 12,
   "id": "a7c4609a",
   "metadata": {},
   "outputs": [
    {
     "data": {
      "application/3dmoljs_load.v0": "<div id=\"3dmolviewer_1745593514805556\"  style=\"position: relative; width: 640px; height: 480px;\">\n        <p id=\"3dmolwarning_1745593514805556\" style=\"background-color:#ffcccc;color:black\">3Dmol.js failed to load for some reason.  Please check your browser console for error messages.<br></p>\n        </div>\n<script>\n\nvar loadScriptAsync = function(uri){\n  return new Promise((resolve, reject) => {\n    //this is to ignore the existence of requirejs amd\n    var savedexports, savedmodule;\n    if (typeof exports !== 'undefined') savedexports = exports;\n    else exports = {}\n    if (typeof module !== 'undefined') savedmodule = module;\n    else module = {}\n\n    var tag = document.createElement('script');\n    tag.src = uri;\n    tag.async = true;\n    tag.onload = () => {\n        exports = savedexports;\n        module = savedmodule;\n        resolve();\n    };\n  var firstScriptTag = document.getElementsByTagName('script')[0];\n  firstScriptTag.parentNode.insertBefore(tag, firstScriptTag);\n});\n};\n\nif(typeof $3Dmolpromise === 'undefined') {\n$3Dmolpromise = null;\n  $3Dmolpromise = loadScriptAsync('https://cdnjs.cloudflare.com/ajax/libs/3Dmol/2.4.2/3Dmol-min.js');\n}\n\nvar viewer_1745593514805556 = null;\nvar warn = document.getElementById(\"3dmolwarning_1745593514805556\");\nif(warn) {\n    warn.parentNode.removeChild(warn);\n}\n$3Dmolpromise.then(function() {\nviewer_1745593514805556 = $3Dmol.createViewer(document.getElementById(\"3dmolviewer_1745593514805556\"),{backgroundColor:\"white\"});\n$3Dmol.download(\"pdb:3vg9\", viewer_1745593514805556, {}, function() {\nviewer_1745593514805556.zoomTo();\n\tviewer_1745593514805556.setBackgroundColor(\"0x000000\");\n\tviewer_1745593514805556.setStyle({\"cartoon\": {\"color\": \"white\"}});\n\tviewer_1745593514805556.zoomTo();\nviewer_1745593514805556.render();\n})\n});\n</script>",
      "text/html": [
       "<div id=\"3dmolviewer_1745593514805556\"  style=\"position: relative; width: 640px; height: 480px;\">\n",
       "        <p id=\"3dmolwarning_1745593514805556\" style=\"background-color:#ffcccc;color:black\">3Dmol.js failed to load for some reason.  Please check your browser console for error messages.<br></p>\n",
       "        </div>\n",
       "<script>\n",
       "\n",
       "var loadScriptAsync = function(uri){\n",
       "  return new Promise((resolve, reject) => {\n",
       "    //this is to ignore the existence of requirejs amd\n",
       "    var savedexports, savedmodule;\n",
       "    if (typeof exports !== 'undefined') savedexports = exports;\n",
       "    else exports = {}\n",
       "    if (typeof module !== 'undefined') savedmodule = module;\n",
       "    else module = {}\n",
       "\n",
       "    var tag = document.createElement('script');\n",
       "    tag.src = uri;\n",
       "    tag.async = true;\n",
       "    tag.onload = () => {\n",
       "        exports = savedexports;\n",
       "        module = savedmodule;\n",
       "        resolve();\n",
       "    };\n",
       "  var firstScriptTag = document.getElementsByTagName('script')[0];\n",
       "  firstScriptTag.parentNode.insertBefore(tag, firstScriptTag);\n",
       "});\n",
       "};\n",
       "\n",
       "if(typeof $3Dmolpromise === 'undefined') {\n",
       "$3Dmolpromise = null;\n",
       "  $3Dmolpromise = loadScriptAsync('https://cdnjs.cloudflare.com/ajax/libs/3Dmol/2.4.2/3Dmol-min.js');\n",
       "}\n",
       "\n",
       "var viewer_1745593514805556 = null;\n",
       "var warn = document.getElementById(\"3dmolwarning_1745593514805556\");\n",
       "if(warn) {\n",
       "    warn.parentNode.removeChild(warn);\n",
       "}\n",
       "$3Dmolpromise.then(function() {\n",
       "viewer_1745593514805556 = $3Dmol.createViewer(document.getElementById(\"3dmolviewer_1745593514805556\"),{backgroundColor:\"white\"});\n",
       "$3Dmol.download(\"pdb:3vg9\", viewer_1745593514805556, {}, function() {\n",
       "viewer_1745593514805556.zoomTo();\n",
       "\tviewer_1745593514805556.setBackgroundColor(\"0x000000\");\n",
       "\tviewer_1745593514805556.setStyle({\"cartoon\": {\"color\": \"white\"}});\n",
       "\tviewer_1745593514805556.zoomTo();\n",
       "viewer_1745593514805556.render();\n",
       "})\n",
       "});\n",
       "</script>"
      ]
     },
     "metadata": {},
     "output_type": "display_data"
    }
   ],
   "source": [
    "# Se representarán visualmente las estructuras de proteínas utilizando el módulo py3Dmol.\n",
    "# Concretamente usaremos el módulo para visualizar la estructura del receptor A2A\n",
    "# de adenosina (PDB ID: 3VG9), y el receptor beta-2 adrenérgico (PDB ID: 2R4R).\n",
    "\n",
    "# Crear la primera vista para la proteína 1 (hemoglobina, por ejemplo)\n",
    "_3vg9 = py3Dmol.view(query='pdb:3vg9')  # Hemoglobina (código PDB: 1a3n)\n",
    "_3vg9.setBackgroundColor('0x000000')  # Fondo negro\n",
    "_3vg9.setStyle({'cartoon': {'color': 'white'}})\n",
    "_3vg9.zoomTo()\n",
    "_3vg9.show()"
   ]
  },
  {
   "cell_type": "code",
   "execution_count": null,
   "id": "6f123111",
   "metadata": {},
   "outputs": [],
   "source": []
  }
 ],
 "metadata": {
  "kernelspec": {
   "display_name": "base",
   "language": "python",
   "name": "python3"
  },
  "language_info": {
   "codemirror_mode": {
    "name": "ipython",
    "version": 3
   },
   "file_extension": ".py",
   "mimetype": "text/x-python",
   "name": "python",
   "nbconvert_exporter": "python",
   "pygments_lexer": "ipython3",
   "version": "3.12.9"
  }
 },
 "nbformat": 4,
 "nbformat_minor": 5
}
